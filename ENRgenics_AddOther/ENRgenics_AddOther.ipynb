{
 "cells": [
  {
   "cell_type": "code",
   "execution_count": 8,
   "metadata": {
    "collapsed": false
   },
   "outputs": [],
   "source": [
    "# Load Libraries\n",
    "library(MASS)\n",
    "library(dplyr)\n",
    "\n",
    "# we've used relative paths.  If you need absolute paths, change these variables or set your\n",
    "# working directory to the directory of this file.\n",
    "ENRGENICS_IMPORTEIA_PATH = \"/home/david/Programming/github/dhpollack/spl-enRgenics/ENRgenics_ImportEIA/ENRgenics_ImportEIA.r\"\n",
    "ENRGENICS_CLIMATE_DATA_PATH = \"../data/climdiv-tmpcst-v1.0.0-20160605\"\n",
    "PATH_VARS = c(ENRGENICS_IMPORTEIA_PATH, ENRGENICS_CLIMATE_DATA_PATH)\n",
    "\n",
    "# Legend Variable\n",
    "# see # ftp://ftp.ncdc.noaa.gov/pub/data/cirs/climdiv/state-readme.txt\n",
    "statecodelegend = c(\"001\"=\"Alabama\",\"030\"=\"New York\",\"002\"=\"Arizona\",\"031\"=\"North Carolina\",\"003\"=\"Arkansas\",\"032\"=\"North Dakota\",\"004\"=\"California\",\"033\"=\"Ohio\",\"005\"=\"Colorado\",\"034\"=\"Oklahoma\",\"006\"=\"Connecticut\",\"035\"=\"Oregon\",\"007\"=\"Delaware\",\"036\"=\"Pennsylvania\",\"008\"=\"Florida\",\"037\"=\"Rhode Island\",\"009\"=\"Georgia\",\"038\"=\"South Carolina\",\"010\"=\"Idaho\",\"039\"=\"South Dakota\",\"011\"=\"Illinois\",\"040\"=\"Tennessee\",\"012\"=\"Indiana\",\"041\"=\"Texas\",\"013\"=\"Iowa\",\"042\"=\"Utah\",\"014\"=\"Kansas\",\"043\"=\"Vermont\",\"015\"=\"Kentucky\",\"044\"=\"Virginia\",\"016\"=\"Louisiana\",\"045\"=\"Washington\",\"017\"=\"Maine\",\"046\"=\"West Virginia\",\"018\"=\"Maryland\",\"047\"=\"Wisconsin\",\"019\"=\"Massachusetts\",\"048\"=\"Wyoming\",\"020\"=\"Michigan\",\"050\"=\"Alaska\",\"021\"=\"Minnesota\",\"022\"=\"Mississippi\",\"023\"=\"Missouri\",\"024\"=\"Montana\",\"025\"=\"Nebraska\",\"026\"=\"Nevada\",\"027\"=\"New Hampshire\",\"028\"=\"New Jersey\",\"029\"=\"New Mexico\",\"049\"=\"Hawaii\")\n",
    "\n",
    "# Helper Functions\n",
    "splitel <- function(x) {\n",
    "  statecode = substr(x,1,3)\n",
    "  divnum = substr(x,4,4)\n",
    "  elcode = substr(x,5,6)\n",
    "  year = substr(x,7,10)\n",
    "  return(c(statecode, divnum, elcode, year))\n",
    "}\n",
    "stfind <- function(x) {\n",
    "  r = \"Other\"\n",
    "  if(x %in% names(statecodelegend)) {\n",
    "    r = statecodelegend[[x]]\n",
    "  }\n",
    "  return(r)\n",
    "}\n",
    "\n",
    "\n",
    "load_weather_data <- function(file = PATH_VARS[2]) {\n",
    "    dat = read.table(file, colClasses = \"character\")\n",
    "\n",
    "    c1sp = lapply(dat[,1], splitel)\n",
    "    c1sp = data.frame(matrix(unlist(c1sp), nrow=length(c1sp), byrow=T),stringsAsFactors=FALSE)\n",
    "    dat = cbind(dat, c1sp)\n",
    "    colnames(dat) <- gsub(\"V\",\"\", names(dat))\n",
    "    library(reshape2)\n",
    "    dat_long = melt(dat, id.vars=c(names(dat)[1], names(dat)[14:17]), direction=\"long\")\n",
    "    dat_long$variable = as.numeric(as.character(dat_long$variable)) - 1\n",
    "    colnames(dat_long) = c(\"col1\", \"statecode\", \"divnum\", \"elcode\", \"Year\", \"Month\", \"temp\")\n",
    "    statenames = sapply(dat$X1,function(x) {stfind(x)})\n",
    "    dat_long$statename = statenames\n",
    "    #st1 = cbind(cbind(state.x77, state.abb),state.name)\n",
    "    #colnames(st1)[which(colnames(st1) == \"state.abb\")] = \"State\"\n",
    "    #colnames(st1)[which(colnames(st1) == \"state.name\")] = \"statename\"\n",
    "    #st1 = as.data.frame(st1,stringsAsFactors=FALSE)\n",
    "    #r = dat_long %>% left_join(st1)\n",
    "    r = dat_long\n",
    "    numindexes = c(\"temp\")\n",
    "    r[,numindexes] = sapply(r[,numindexes],as.numeric)\n",
    "    intindexes = c(\"Month\", \"Year\")\n",
    "    r[,intindexes] = sapply(r[,intindexes],as.integer)\n",
    "    return(r)\n",
    "\n",
    "}\n",
    "\n",
    "load_state_data <- function() {\n",
    "    st1 = cbind(cbind(state.x77, state.abb),state.name)\n",
    "    colnames(st1)[which(colnames(st1) == \"state.abb\")] = \"State\"\n",
    "    colnames(st1)[which(colnames(st1) == \"state.name\")] = \"statename\"\n",
    "    st1 = as.data.frame(st1,stringsAsFactors=FALSE)\n",
    "    numindexes = c(\"Population\", \"Income\", \"Illiteracy\", \"Life Exp\", \"Murder\", \"HS Grad\", \"Frost\", \"Area\")\n",
    "    st1[,numindexes] = sapply(st1[,numindexes],as.numeric)\n",
    "    return(st1)\n",
    "    \n",
    "}\n",
    "\n",
    "add_data <- function(df1, df2) {\n",
    "    return(df1 %>% left_join(df2))\n",
    "}\n",
    "\n",
    "load_eia_data_with_all_others <- function(file) {\n",
    "    source(PATH_VARS[1])\n",
    "    eiadata = load_eia_data(file)\n",
    "    otherdata = add_data(load_weather_data(), load_state_data())\n",
    "    alldata = add_data(eiadata, otherdata[,c(\"Month\", \"Year\", \"State\", \"statename\", \"temp\", \"Population\", \"Income\", \"Illiteracy\", \"Life Exp\", \"Murder\", \"HS Grad\", \"Frost\", \"Area\")])\n",
    "    return(alldata)\n",
    "}\n"
   ]
  },
  {
   "cell_type": "code",
   "execution_count": 9,
   "metadata": {
    "collapsed": false
   },
   "outputs": [
    {
     "name": "stderr",
     "output_type": "stream",
     "text": [
      "Joining by: \"statename\"\n",
      "Joining by: c(\"Year\", \"Month\", \"State\")\n"
     ]
    },
    {
     "data": {
      "text/html": [
       "<table>\n",
       "<thead><tr><th></th><th scope=col>Year</th><th scope=col>Month</th><th scope=col>State</th><th scope=col>DataStatus</th><th scope=col>Date</th><th scope=col>Cat</th><th scope=col>Revenue</th><th scope=col>Sales</th><th scope=col>Customers</th><th scope=col>Price</th><th scope=col>ID</th><th scope=col>statename</th><th scope=col>temp</th><th scope=col>Population</th><th scope=col>Income</th><th scope=col>Illiteracy</th><th scope=col>Life Exp</th><th scope=col>Murder</th><th scope=col>HS Grad</th><th scope=col>Frost</th><th scope=col>Area</th></tr></thead>\n",
       "<tbody>\n",
       "\t<tr><th scope=row>1</th><td>1990</td><td>1</td><td>AK</td><td>Final</td><td>631195200</td><td>RESIDENTIAL</td><td>17477</td><td>181752</td><td>0</td><td>9.62</td><td>1</td><td>Alaska</td><td>-1.5</td><td>365</td><td>6315</td><td>1.5</td><td>69.31</td><td>11.3</td><td>66.7</td><td>152</td><td>566432</td></tr>\n",
       "\t<tr><th scope=row>2</th><td>1990</td><td>1</td><td>AL</td><td>Final</td><td>631195200</td><td>RESIDENTIAL</td><td>123332</td><td>2070093</td><td>0</td><td>5.96</td><td>2</td><td>Alabama</td><td>49.8</td><td>3615</td><td>3624</td><td>2.1</td><td>69.05</td><td>15.1</td><td>41.3</td><td>20</td><td>50708</td></tr>\n",
       "\t<tr><th scope=row>3</th><td>1990</td><td>1</td><td>AR</td><td>Final</td><td>631195200</td><td>RESIDENTIAL</td><td>72506</td><td>1026320</td><td>0</td><td>7.06</td><td>3</td><td>Arkansas</td><td>45.6</td><td>2110</td><td>3378</td><td>1.9</td><td>70.66</td><td>10.1</td><td>39.9</td><td>65</td><td>51945</td></tr>\n",
       "\t<tr><th scope=row>4</th><td>1990</td><td>1</td><td>AZ</td><td>Final</td><td>631195200</td><td>RESIDENTIAL</td><td>109332</td><td>1396499</td><td>0</td><td>7.83</td><td>4</td><td>Arizona</td><td>40.8</td><td>2212</td><td>4530</td><td>1.8</td><td>70.55</td><td>7.8</td><td>58.1</td><td>15</td><td>113417</td></tr>\n",
       "\t<tr><th scope=row>5</th><td>1990</td><td>1</td><td>CA</td><td>Final</td><td>631195200</td><td>RESIDENTIAL</td><td>597161</td><td>6168009</td><td>0</td><td>9.68</td><td>5</td><td>California</td><td>43.1</td><td>21198</td><td>5114</td><td>1.1</td><td>71.71</td><td>10.3</td><td>62.6</td><td>20</td><td>156361</td></tr>\n",
       "\t<tr><th scope=row>6</th><td>1990</td><td>1</td><td>CO</td><td>Final</td><td>631195200</td><td>RESIDENTIAL</td><td>71325</td><td>1046805</td><td>0</td><td>6.81</td><td>6</td><td>Colorado</td><td>26.4</td><td>2541</td><td>4884</td><td>0.7</td><td>72.06</td><td>6.8</td><td>63.9</td><td>166</td><td>103766</td></tr>\n",
       "</tbody>\n",
       "</table>\n"
      ],
      "text/latex": [
       "\\begin{tabular}{r|lllllllllllllllllllll}\n",
       "  & Year & Month & State & DataStatus & Date & Cat & Revenue & Sales & Customers & Price & ID & statename & temp & Population & Income & Illiteracy & Life Exp & Murder & HS Grad & Frost & Area\\\\\n",
       "\\hline\n",
       "\t1 & 1990 & 1 & AK & Final & 631195200 & RESIDENTIAL & 17477 & 181752 & 0 & 9.62 & 1 & Alaska & -1.5 & 365 & 6315 & 1.5 & 69.31 & 11.3 & 66.7 & 152 & 566432\\\\\n",
       "\t2 & 1990 & 1 & AL & Final & 631195200 & RESIDENTIAL & 123332 & 2070093 & 0 & 5.96 & 2 & Alabama & 49.8 & 3615 & 3624 & 2.1 & 69.05 & 15.1 & 41.3 & 20 & 50708\\\\\n",
       "\t3 & 1990 & 1 & AR & Final & 631195200 & RESIDENTIAL & 72506 & 1026320 & 0 & 7.06 & 3 & Arkansas & 45.6 & 2110 & 3378 & 1.9 & 70.66 & 10.1 & 39.9 & 65 & 51945\\\\\n",
       "\t4 & 1990 & 1 & AZ & Final & 631195200 & RESIDENTIAL & 109332 & 1396499 & 0 & 7.83 & 4 & Arizona & 40.8 & 2212 & 4530 & 1.8 & 70.55 & 7.8 & 58.1 & 15 & 113417\\\\\n",
       "\t5 & 1990 & 1 & CA & Final & 631195200 & RESIDENTIAL & 597161 & 6168009 & 0 & 9.68 & 5 & California & 43.1 & 21198 & 5114 & 1.1 & 71.71 & 10.3 & 62.6 & 20 & 156361\\\\\n",
       "\t6 & 1990 & 1 & CO & Final & 631195200 & RESIDENTIAL & 71325 & 1046805 & 0 & 6.81 & 6 & Colorado & 26.4 & 2541 & 4884 & 0.7 & 72.06 & 6.8 & 63.9 & 166 & 103766\\\\\n",
       "\\end{tabular}\n"
      ],
      "text/plain": [
       "  Year Month State DataStatus      Date         Cat Revenue   Sales Customers\n",
       "1 1990     1    AK      Final 631195200 RESIDENTIAL   17477  181752         0\n",
       "2 1990     1    AL      Final 631195200 RESIDENTIAL  123332 2070093         0\n",
       "3 1990     1    AR      Final 631195200 RESIDENTIAL   72506 1026320         0\n",
       "4 1990     1    AZ      Final 631195200 RESIDENTIAL  109332 1396499         0\n",
       "5 1990     1    CA      Final 631195200 RESIDENTIAL  597161 6168009         0\n",
       "6 1990     1    CO      Final 631195200 RESIDENTIAL   71325 1046805         0\n",
       "  Price ID  statename temp Population Income Illiteracy Life Exp Murder HS Grad\n",
       "1  9.62  1     Alaska -1.5        365   6315        1.5    69.31   11.3    66.7\n",
       "2  5.96  2    Alabama 49.8       3615   3624        2.1    69.05   15.1    41.3\n",
       "3  7.06  3   Arkansas 45.6       2110   3378        1.9    70.66   10.1    39.9\n",
       "4  7.83  4    Arizona 40.8       2212   4530        1.8    70.55    7.8    58.1\n",
       "5  9.68  5 California 43.1      21198   5114        1.1    71.71   10.3    62.6\n",
       "6  6.81  6   Colorado 26.4       2541   4884        0.7    72.06    6.8    63.9\n",
       "  Frost   Area\n",
       "1   152 566432\n",
       "2    20  50708\n",
       "3    65  51945\n",
       "4    15 113417\n",
       "5    20 156361\n",
       "6   166 103766"
      ]
     },
     "execution_count": 9,
     "metadata": {},
     "output_type": "execute_result"
    }
   ],
   "source": [
    "# Sample Usage: Below is the sample usage of how to source this file into \n",
    "# other quantlets.  Note, I have used relative paths, but you may need to use \n",
    "# absolute paths OR set the correct working directory.  These variables \n",
    "# assume the quantlet is being sourced from a parallel folder\n",
    "\n",
    "# load data from Quantlet\n",
    "#ENRGENICS_ADDOTHER_PATH = \"../ENRgenics_AddOther/ENRgenics_AddOther.r\"\n",
    "#source(ENRGENICS_ADDOTHER_PATH)\n",
    "\n",
    "# start here to directly load data from this file for testing\n",
    "# paths for ImportEIA and climate Data\n",
    "#ENRGENICS_IMPORTEIA_PATH = \"../ENRgenics_ImportEIA/ENRgenics_ImportEIA.r\"\n",
    "#ENRGENICS_CLIMATE_DATA_PATH = \"../data/climdiv-tmpcst-v1.0.0-20160605\"\n",
    "#PATH_VARS = c(ENRGENICS_IMPORTEIA_PATH, ENRGENICS_CLIMATE_DATA_PATH)\n",
    "# location of EIA data file\n",
    "#EIA_DATA_PATH = \"../data/sales_revenue.csv.0\"\n",
    "#file = EIA_DATA_PATH\n",
    "#df = load_eia_data_with_all_others(file)\n",
    "#head(df)"
   ]
  },
  {
   "cell_type": "code",
   "execution_count": null,
   "metadata": {
    "collapsed": true
   },
   "outputs": [],
   "source": []
  }
 ],
 "metadata": {
  "kernelspec": {
   "display_name": "R",
   "language": "R",
   "name": "ir"
  },
  "language_info": {
   "codemirror_mode": "r",
   "file_extension": ".r",
   "mimetype": "text/x-r-source",
   "name": "R",
   "pygments_lexer": "r",
   "version": "3.2.2"
  }
 },
 "nbformat": 4,
 "nbformat_minor": 0
}
