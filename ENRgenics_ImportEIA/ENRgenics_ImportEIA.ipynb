{
 "cells": [
  {
   "cell_type": "code",
   "execution_count": 1,
   "metadata": {
    "collapsed": false
   },
   "outputs": [
    {
     "name": "stderr",
     "output_type": "stream",
     "text": [
      "\n",
      "Attaching package: ‘zoo’\n",
      "\n",
      "The following objects are masked from ‘package:base’:\n",
      "\n",
      "    as.Date, as.Date.numeric\n",
      "\n"
     ]
    }
   ],
   "source": [
    "# Load Libraries and Data\n",
    "# download data from https://www.eia.gov/electricity/data/eia826/\n",
    "# options(repos= c(\"http://cloud.r-project.org/\"))\n",
    "# install.packages(zoo)\n",
    "library(zoo)\n",
    "# install.packages(reshape2)\n",
    "library(reshape2)\n"
   ]
  },
  {
   "cell_type": "code",
   "execution_count": 2,
   "metadata": {
    "collapsed": false
   },
   "outputs": [],
   "source": [
    "check4data = function(file, reverse = FALSE) {\n",
    "    numlines = 100\n",
    "    s = readLines(file)\n",
    "    if(reverse == FALSE) {\n",
    "        # from beginning of file\n",
    "        checkLines = c(1:numlines)\n",
    "    } else {\n",
    "        # from end of file\n",
    "        tLines = length(s)\n",
    "        checkLines = rev(c((tLines - numlines):tLines))\n",
    "    }\n",
    "    for (i in checkLines) {\n",
    "        lineVec = unlist(strsplit(s[i], split=\",\"))\n",
    "        # http://stackoverflow.com/questions/14984989/how-to-avoid-warning-when-introducing-nas-by-coercion\n",
    "        if (is.na(suppressWarnings(as.integer(lineVec[1]))) == F) {\n",
    "            return(i)\n",
    "        }\n",
    "    }\n",
    "    return(0)\n",
    "}\n",
    "\n",
    "revandcollapse = function(x) {\n",
    "    x = rev(x)\n",
    "    x[which(x == \"\")] = NA\n",
    "    x = na.locf(x)\n",
    "    return(x)\n",
    "}\n",
    "\n",
    "extractheaderinfo = function(file, lines) {\n",
    "    raw = readLines(file, n = lines)\n",
    "    for (i in rev(c(1:lines))) {\n",
    "        lineVec = unlist(strsplit(raw[i], split=\",\"))\n",
    "        # the above misses the last element if it's blank.\n",
    "        if(i != lines) {\n",
    "            if(length(lineVec) < length(prevline)) {\n",
    "                lineVec = append(lineVec,\"\", after = length(lineVec))\n",
    "            }\n",
    "        }\n",
    "        lineVec[which(lineVec == \"\")] = NA\n",
    "        t = na.locf(lineVec, na.rm = FALSE)\n",
    "        t[which(is.na(t))] = \"\"\n",
    "        t = gsub(\"\\\\s\", \"\", t)\n",
    "        t = gsub('\"', '', t)\n",
    "        if(i == lines) {\n",
    "            prevline = t\n",
    "        } else {\n",
    "            prevline = paste(prevline, t, sep = \"|\")\n",
    "        }\n",
    "    }\n",
    "    r = sapply(strsplit(as.character(prevline), \"\\\\|\"), function(x) {revandcollapse(x)})\n",
    "    return(r)\n",
    "}\n",
    "\n",
    "\n",
    "c2num = function(data, headers) {\n",
    "    els = sapply(headers, function(x) {length(x)})\n",
    "    chidxs = which(els <= 1)\n",
    "    uhidxs = setdiff(c(1:length(els)), chidxs)\n",
    "    data[uhidxs] = lapply(data[uhidxs], function(x) {suppressWarnings(as.numeric(gsub(\",\", \"\",as.character(x))))})\n",
    "    data[is.na(data)] = 0\n",
    "    return(data)\n",
    "}\n",
    "\n",
    "# datefields\n",
    "adddate = function(data, fields) {\n",
    "    \n",
    "    names = c(\"year\", \"month\", \"day\")\n",
    "    for (i in 1:length(names)) {\n",
    "        if(i <= length(fields)) {\n",
    "            assign(names[i], data[fields[i]])\n",
    "        } else {\n",
    "            assign(names[i], NULL)\n",
    "        }\n",
    "    }\n",
    "    if(is.null(year)) {\n",
    "        year = 1920\n",
    "    }\n",
    "    if(is.null(month)) {\n",
    "        print(month)\n",
    "        month = 1\n",
    "    }\n",
    "    if(is.null(day)) {\n",
    "        day = 1\n",
    "    }\n",
    "    #d = as.Date(paste(month,day,year, sep=\"-\"), \"%m-%d-%Y\")\n",
    "    # https://stat.ethz.ch/R-manual/R-devel/library/base/html/ISOdatetime.html\n",
    "    # http://stackoverflow.com/questions/13456241/convert-unix-epoch-to-date-object-in-r\n",
    "    d = ISOdate(year, month, day)\n",
    "    return(d)\n",
    "}\n",
    "\n",
    "splitdata = function(data, headers, catlen = 4) {\n",
    "    # http://www.statmethods.net/management/reshape.html\n",
    "    els = sapply(headers, function(x) {length(x)})\n",
    "    chidxs = which(els <= 1)\n",
    "    uhidxs = setdiff(c(1:length(els)), chidxs)\n",
    "    cnames = c(c(sapply(headers[chidxs],function(x) {x[1]})), c(sapply(headers[uhidxs],function(x) {paste(x[2],x[1], sep=\"_\")})))\n",
    "    colnames(data) = cnames\n",
    "    ymd = which(cnames == \"Year\" | cnames == \"Month\" | cnames == \"Day\")\n",
    "    Date = apply(data[chidxs], 1, function(x){adddate(x,ymd)})\n",
    "    data = cbind(data, Date)\n",
    "    # http://stackoverflow.com/questions/21690235/melt-multiple-groups-of-measure-vars\n",
    "    # http://www.r-bloggers.com/converting-a-dataset-from-wide-to-long/\n",
    "    r = reshape(data, varying=uhidxs, direction=\"long\",idvar=\"ID\",timevar = \"Cat\", sep=\"_\")\n",
    "    return(r)\n",
    "}\n",
    "\n",
    "load_eia_data = function(file) {\n",
    "    firstline = check4data(file) - 1\n",
    "    # [1] 4\n",
    "    lastline = check4data(file, reverse = TRUE) - firstline\n",
    "    # [1] 16014\n",
    "\n",
    "    rawdata = read.csv(file, header = FALSE, skip = firstline, nrows = lastline, stringsAsFactors = FALSE)\n",
    "    headers = extractheaderinfo(file,firstline)\n",
    "    alldata = c2num(rawdata, headers)\n",
    "    reformeddata = splitdata(alldata, headers)\n",
    "    return(reformeddata)\n",
    "}\n"
   ]
  },
  {
   "cell_type": "code",
   "execution_count": 5,
   "metadata": {
    "collapsed": false
   },
   "outputs": [
    {
     "data": {
      "text/html": [
       "<table>\n",
       "<thead><tr><th></th><th scope=col>Year</th><th scope=col>Month</th><th scope=col>State</th><th scope=col>DataStatus</th><th scope=col>Date</th><th scope=col>Cat</th><th scope=col>Revenue</th><th scope=col>Sales</th><th scope=col>Customers</th><th scope=col>Price</th><th scope=col>ID</th></tr></thead>\n",
       "<tbody>\n",
       "\t<tr><th scope=row>1.RESIDENTIAL</th><td>1990</td><td>1</td><td>AK</td><td>Final</td><td>631195200</td><td>RESIDENTIAL</td><td>17477</td><td>181752</td><td>0</td><td>9.62</td><td>1</td></tr>\n",
       "\t<tr><th scope=row>2.RESIDENTIAL</th><td>1990</td><td>1</td><td>AL</td><td>Final</td><td>631195200</td><td>RESIDENTIAL</td><td>123332</td><td>2070093</td><td>0</td><td>5.96</td><td>2</td></tr>\n",
       "\t<tr><th scope=row>3.RESIDENTIAL</th><td>1990</td><td>1</td><td>AR</td><td>Final</td><td>631195200</td><td>RESIDENTIAL</td><td>72506</td><td>1026320</td><td>0</td><td>7.06</td><td>3</td></tr>\n",
       "\t<tr><th scope=row>4.RESIDENTIAL</th><td>1990</td><td>1</td><td>AZ</td><td>Final</td><td>631195200</td><td>RESIDENTIAL</td><td>109332</td><td>1396499</td><td>0</td><td>7.83</td><td>4</td></tr>\n",
       "\t<tr><th scope=row>5.RESIDENTIAL</th><td>1990</td><td>1</td><td>CA</td><td>Final</td><td>631195200</td><td>RESIDENTIAL</td><td>597161</td><td>6168009</td><td>0</td><td>9.68</td><td>5</td></tr>\n",
       "\t<tr><th scope=row>6.RESIDENTIAL</th><td>1990</td><td>1</td><td>CO</td><td>Final</td><td>631195200</td><td>RESIDENTIAL</td><td>71325</td><td>1046805</td><td>0</td><td>6.81</td><td>6</td></tr>\n",
       "</tbody>\n",
       "</table>\n"
      ],
      "text/latex": [
       "\\begin{tabular}{r|lllllllllll}\n",
       "  & Year & Month & State & DataStatus & Date & Cat & Revenue & Sales & Customers & Price & ID\\\\\n",
       "\\hline\n",
       "\t1.RESIDENTIAL & 1990 & 1 & AK & Final & 631195200 & RESIDENTIAL & 17477 & 181752 & 0 & 9.62 & 1\\\\\n",
       "\t2.RESIDENTIAL & 1990 & 1 & AL & Final & 631195200 & RESIDENTIAL & 123332 & 2070093 & 0 & 5.96 & 2\\\\\n",
       "\t3.RESIDENTIAL & 1990 & 1 & AR & Final & 631195200 & RESIDENTIAL & 72506 & 1026320 & 0 & 7.06 & 3\\\\\n",
       "\t4.RESIDENTIAL & 1990 & 1 & AZ & Final & 631195200 & RESIDENTIAL & 109332 & 1396499 & 0 & 7.83 & 4\\\\\n",
       "\t5.RESIDENTIAL & 1990 & 1 & CA & Final & 631195200 & RESIDENTIAL & 597161 & 6168009 & 0 & 9.68 & 5\\\\\n",
       "\t6.RESIDENTIAL & 1990 & 1 & CO & Final & 631195200 & RESIDENTIAL & 71325 & 1046805 & 0 & 6.81 & 6\\\\\n",
       "\\end{tabular}\n"
      ],
      "text/plain": [
       "              Year Month State DataStatus      Date         Cat Revenue   Sales\n",
       "1.RESIDENTIAL 1990     1    AK      Final 631195200 RESIDENTIAL   17477  181752\n",
       "2.RESIDENTIAL 1990     1    AL      Final 631195200 RESIDENTIAL  123332 2070093\n",
       "3.RESIDENTIAL 1990     1    AR      Final 631195200 RESIDENTIAL   72506 1026320\n",
       "4.RESIDENTIAL 1990     1    AZ      Final 631195200 RESIDENTIAL  109332 1396499\n",
       "5.RESIDENTIAL 1990     1    CA      Final 631195200 RESIDENTIAL  597161 6168009\n",
       "6.RESIDENTIAL 1990     1    CO      Final 631195200 RESIDENTIAL   71325 1046805\n",
       "              Customers Price ID\n",
       "1.RESIDENTIAL         0  9.62  1\n",
       "2.RESIDENTIAL         0  5.96  2\n",
       "3.RESIDENTIAL         0  7.06  3\n",
       "4.RESIDENTIAL         0  7.83  4\n",
       "5.RESIDENTIAL         0  9.68  5\n",
       "6.RESIDENTIAL         0  6.81  6"
      ]
     },
     "execution_count": 5,
     "metadata": {},
     "output_type": "execute_result"
    },
    {
     "data": {
      "text/html": [
       "<dl class=dl-horizontal>\n",
       "\t<dt>Year</dt>\n",
       "\t\t<dd>'integer'</dd>\n",
       "\t<dt>Month</dt>\n",
       "\t\t<dd>'integer'</dd>\n",
       "\t<dt>State</dt>\n",
       "\t\t<dd>'character'</dd>\n",
       "\t<dt>DataStatus</dt>\n",
       "\t\t<dd>'character'</dd>\n",
       "\t<dt>Date</dt>\n",
       "\t\t<dd>'numeric'</dd>\n",
       "\t<dt>Cat</dt>\n",
       "\t\t<dd>'character'</dd>\n",
       "\t<dt>Revenue</dt>\n",
       "\t\t<dd>'numeric'</dd>\n",
       "\t<dt>Sales</dt>\n",
       "\t\t<dd>'numeric'</dd>\n",
       "\t<dt>Customers</dt>\n",
       "\t\t<dd>'numeric'</dd>\n",
       "\t<dt>Price</dt>\n",
       "\t\t<dd>'numeric'</dd>\n",
       "\t<dt>ID</dt>\n",
       "\t\t<dd>'integer'</dd>\n",
       "</dl>\n"
      ],
      "text/latex": [
       "\\begin{description*}\n",
       "\\item[Year] 'integer'\n",
       "\\item[Month] 'integer'\n",
       "\\item[State] 'character'\n",
       "\\item[DataStatus] 'character'\n",
       "\\item[Date] 'numeric'\n",
       "\\item[Cat] 'character'\n",
       "\\item[Revenue] 'numeric'\n",
       "\\item[Sales] 'numeric'\n",
       "\\item[Customers] 'numeric'\n",
       "\\item[Price] 'numeric'\n",
       "\\item[ID] 'integer'\n",
       "\\end{description*}\n"
      ],
      "text/markdown": [
       "Year\n",
       ":   'integer'Month\n",
       ":   'integer'State\n",
       ":   'character'DataStatus\n",
       ":   'character'Date\n",
       ":   'numeric'Cat\n",
       ":   'character'Revenue\n",
       ":   'numeric'Sales\n",
       ":   'numeric'Customers\n",
       ":   'numeric'Price\n",
       ":   'numeric'ID\n",
       ":   'integer'\n",
       "\n"
      ],
      "text/plain": [
       "       Year       Month       State  DataStatus        Date         Cat \n",
       "  \"integer\"   \"integer\" \"character\" \"character\"   \"numeric\" \"character\" \n",
       "    Revenue       Sales   Customers       Price          ID \n",
       "  \"numeric\"   \"numeric\"   \"numeric\"   \"numeric\"   \"integer\" "
      ]
     },
     "execution_count": 5,
     "metadata": {},
     "output_type": "execute_result"
    }
   ],
   "source": [
    "# sample usage\n",
    "# see ENRgenics_AddOther to load \n",
    "#file = \"../data/sales_revenue.csv.0\"\n",
    "#reformeddata = load_eia_data(file)\n",
    "#head(reformeddata)\n",
    "#write.csv2(reformeddata, paste(file,\".out.csv\",sep=\"\"))"
   ]
  },
  {
   "cell_type": "code",
   "execution_count": null,
   "metadata": {
    "collapsed": true
   },
   "outputs": [],
   "source": []
  }
 ],
 "metadata": {
  "kernelspec": {
   "display_name": "R",
   "language": "R",
   "name": "ir"
  },
  "language_info": {
   "codemirror_mode": "r",
   "file_extension": ".r",
   "mimetype": "text/x-r-source",
   "name": "R",
   "pygments_lexer": "r",
   "version": "3.2.2"
  },
  "widgets": {
   "state": {},
   "version": "1.1.2"
  }
 },
 "nbformat": 4,
 "nbformat_minor": 0
}
