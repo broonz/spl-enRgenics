{
 "cells": [
  {
   "cell_type": "code",
   "execution_count": 58,
   "metadata": {
    "collapsed": false
   },
   "outputs": [
    {
     "name": "stderr",
     "output_type": "stream",
     "text": [
      "Warning message:\n",
      ": NAs introduced by coercionWarning message:\n",
      ": NAs introduced by coercionWarning message:\n",
      ": NAs introduced by coercionWarning message:\n",
      ": NAs introduced by coercion"
     ]
    },
    {
     "data": {
      "text/html": [
       "<table>\n",
       "<thead><tr><th></th><th scope=col>V1</th><th scope=col>V2</th><th scope=col>V3</th><th scope=col>V4</th><th scope=col>V5</th><th scope=col>V6</th><th scope=col>V7</th><th scope=col>V8</th><th scope=col>V9</th><th scope=col>V10</th><th scope=col>ellip.h</th><th scope=col>V19</th><th scope=col>V20</th><th scope=col>V21</th><th scope=col>V22</th><th scope=col>V23</th><th scope=col>V24</th><th scope=col>V25</th><th scope=col>V26</th><th scope=col>V27</th><th scope=col>V28</th></tr></thead>\n",
       "<tbody>\n",
       "\t<tr><th scope=row>1</th><td>1990</td><td>1</td><td>AK</td><td>Final</td><td>17,477</td><td>181,752</td><td>.</td><td>9.62</td><td>15,818</td><td>178,259</td><td>⋯</td><td>.</td><td>.</td><td>1,918</td><td>14,816</td><td>.</td><td>12.95</td><td>38,848</td><td>416,438</td><td>.</td><td>9.33</td></tr>\n",
       "\t<tr><th scope=row>2</th><td>1990</td><td>1</td><td>AL</td><td>Final</td><td>123,332</td><td>2,070,093</td><td>.</td><td>5.96</td><td>54,495</td><td>820,415</td><td>⋯</td><td>.</td><td>.</td><td>2,851</td><td>53,954</td><td>.</td><td>5.28</td><td>268,440</td><td>5,044,008</td><td>.</td><td>5.32</td></tr>\n",
       "\t<tr><th scope=row>3</th><td>1990</td><td>1</td><td>AR</td><td>Final</td><td>72,506</td><td>1,026,320</td><td>.</td><td>7.06</td><td>30,966</td><td>474,988</td><td>⋯</td><td>.</td><td>.</td><td>3,117</td><td>47,600</td><td>.</td><td>6.55</td><td>143,635</td><td>2,331,399</td><td>.</td><td>6.16</td></tr>\n",
       "\t<tr><th scope=row>4</th><td>1990</td><td>1</td><td>AZ</td><td>Final</td><td>109,332</td><td>1,396,499</td><td>.</td><td>7.83</td><td>82,694</td><td>1,081,793</td><td>⋯</td><td>.</td><td>.</td><td>7,833</td><td>151,064</td><td>.</td><td>5.19</td><td>243,133</td><td>3,439,153</td><td>.</td><td>7.07</td></tr>\n",
       "\t<tr><th scope=row>5</th><td>1990</td><td>1</td><td>CA</td><td>Final</td><td>597,161</td><td>6,168,009</td><td>.</td><td>9.68</td><td>508,517</td><td>6,011,774</td><td>⋯</td><td>.</td><td>.</td><td>32,100</td><td>869,565</td><td>.</td><td>3.69</td><td>1,406,536</td><td>17,504,013</td><td>.</td><td>8.04</td></tr>\n",
       "\t<tr><th scope=row>6</th><td>1990</td><td>1</td><td>CO</td><td>Final</td><td>71,325</td><td>1,046,805</td><td>.</td><td>6.81</td><td>65,130</td><td>1,158,963</td><td>⋯</td><td>.</td><td>.</td><td>4,054</td><td>58,780</td><td>.</td><td>6.90</td><td>164,996</td><td>2,809,935</td><td>.</td><td>5.87</td></tr>\n",
       "</tbody>\n",
       "</table>\n"
      ],
      "text/latex": [
       "\\begin{tabular}{r|llllllllllllllllllllllllllll}\n",
       "  & V1 & V2 & V3 & V4 & V5 & V6 & V7 & V8 & V9 & V10 & ellip.h & V19 & V20 & V21 & V22 & V23 & V24 & V25 & V26 & V27 & V28\\\\\n",
       "\\hline\n",
       "\t1 & 1990 & 1 & AK & Final & 17,477 & 181,752 & . & 9.62 & 15,818 & 178,259 & ⋯ & . & . & 1,918 & 14,816 & . & 12.95 & 38,848 & 416,438 & . & 9.33\\\\\n",
       "\t2 & 1990 & 1 & AL & Final & 123,332 & 2,070,093 & . & 5.96 & 54,495 & 820,415 & ⋯ & . & . & 2,851 & 53,954 & . & 5.28 & 268,440 & 5,044,008 & . & 5.32\\\\\n",
       "\t3 & 1990 & 1 & AR & Final & 72,506 & 1,026,320 & . & 7.06 & 30,966 & 474,988 & ⋯ & . & . & 3,117 & 47,600 & . & 6.55 & 143,635 & 2,331,399 & . & 6.16\\\\\n",
       "\t4 & 1990 & 1 & AZ & Final & 109,332 & 1,396,499 & . & 7.83 & 82,694 & 1,081,793 & ⋯ & . & . & 7,833 & 151,064 & . & 5.19 & 243,133 & 3,439,153 & . & 7.07\\\\\n",
       "\t5 & 1990 & 1 & CA & Final & 597,161 & 6,168,009 & . & 9.68 & 508,517 & 6,011,774 & ⋯ & . & . & 32,100 & 869,565 & . & 3.69 & 1,406,536 & 17,504,013 & . & 8.04\\\\\n",
       "\t6 & 1990 & 1 & CO & Final & 71,325 & 1,046,805 & . & 6.81 & 65,130 & 1,158,963 & ⋯ & . & . & 4,054 & 58,780 & . & 6.90 & 164,996 & 2,809,935 & . & 5.87\\\\\n",
       "\\end{tabular}\n"
      ],
      "text/plain": [
       "    V1 V2 V3    V4      V5        V6 V7   V8      V9       V10 V11  V12     V13\n",
       "1 1990  1 AK Final  17,477   181,752  . 9.62  15,818   178,259   . 8.87   3,636\n",
       "2 1990  1 AL Final 123,332 2,070,093  . 5.96  54,495   820,415   . 6.64  87,762\n",
       "3 1990  1 AR Final  72,506 1,026,320  . 7.06  30,966   474,988   . 6.52  37,046\n",
       "4 1990  1 AZ Final 109,332 1,396,499  . 7.83  82,694 1,081,793   . 7.64  43,274\n",
       "5 1990  1 CA Final 597,161 6,168,009  . 9.68 508,517 6,011,774   . 8.46 268,759\n",
       "6 1990  1 CO Final  71,325 1,046,805  . 6.81  65,130 1,158,963   . 5.62  24,488\n",
       "        V14 V15  V16 V17 V18 V19 V20    V21     V22 V23   V24       V25\n",
       "1    41,610   . 8.74   .   .   .   .  1,918  14,816   . 12.95    38,848\n",
       "2 2,099,546   . 4.18   .   .   .   .  2,851  53,954   .  5.28   268,440\n",
       "3   782,491   . 4.73   .   .   .   .  3,117  47,600   .  6.55   143,635\n",
       "4   809,797   . 5.34   .   .   .   .  7,833 151,064   .  5.19   243,133\n",
       "5 4,454,664   . 6.03   .   .   .   . 32,100 869,565   .  3.69 1,406,536\n",
       "6   545,387   . 4.49   .   .   .   .  4,054  58,780   .  6.90   164,996\n",
       "         V26 V27  V28\n",
       "1    416,438   . 9.33\n",
       "2  5,044,008   . 5.32\n",
       "3  2,331,399   . 6.16\n",
       "4  3,439,153   . 7.07\n",
       "5 17,504,013   . 8.04\n",
       "6  2,809,935   . 5.87"
      ]
     },
     "execution_count": 58,
     "metadata": {},
     "output_type": "execute_result"
    }
   ],
   "source": [
    "# download data from https://www.eia.gov/electricity/data/eia826/\n",
    "\n",
    "check4data <- function(file, reverse = FALSE) {\n",
    "    numlines = 100\n",
    "    s = readLines(file)\n",
    "    if(reverse == FALSE) {\n",
    "        checkLines = c(1:numlines)\n",
    "    } else {\n",
    "        tLines = length(s)\n",
    "        checkLines = rev(c((tLines - numlines):tLines))\n",
    "    }\n",
    "    for (i in checkLines) {\n",
    "        lineVec = unlist(strsplit(s[i], split=\",\"))\n",
    "        if (is.na(as.integer(lineVec[1])) == F) {\n",
    "            return(i)\n",
    "        }\n",
    "    }\n",
    "    return(0)\n",
    "}\n",
    "\n",
    "file = \"data/sales_revenue_1.csv\"\n",
    "firstline = check4data(file) - 1\n",
    "# [1] 4\n",
    "lastline = check4data(file, reverse = TRUE) - firstline\n",
    "\n",
    "alldata = read.csv(file, header = FALSE, skip = firstline, nrows = lastline)\n",
    "\n",
    "\n",
    "head(alldata)"
   ]
  },
  {
   "cell_type": "code",
   "execution_count": null,
   "metadata": {
    "collapsed": true
   },
   "outputs": [],
   "source": []
  }
 ],
 "metadata": {
  "kernelspec": {
   "display_name": "R",
   "language": "R",
   "name": "ir"
  },
  "language_info": {
   "codemirror_mode": "r",
   "file_extension": ".r",
   "mimetype": "text/x-r-source",
   "name": "R",
   "pygments_lexer": "r",
   "version": "3.2.5"
  }
 },
 "nbformat": 4,
 "nbformat_minor": 0
}
