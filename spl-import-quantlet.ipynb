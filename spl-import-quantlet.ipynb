{
 "cells": [
  {
   "cell_type": "code",
   "execution_count": 2,
   "metadata": {
    "collapsed": false
   },
   "outputs": [
    {
     "name": "stderr",
     "output_type": "stream",
     "text": [
      "\n",
      "Attaching package: ‘zoo’\n",
      "\n",
      "The following objects are masked from ‘package:base’:\n",
      "\n",
      "    as.Date, as.Date.numeric\n",
      "\n"
     ]
    }
   ],
   "source": [
    "# Load Libraries and Data\n",
    "# download data from https://www.eia.gov/electricity/data/eia826/\n",
    "options(repos= c(\"http://cloud.r-project.org/\"))\n",
    "\n",
    "library(zoo)\n",
    "library(reshape2)\n"
   ]
  },
  {
   "cell_type": "code",
   "execution_count": 3,
   "metadata": {
    "collapsed": false
   },
   "outputs": [
    {
     "name": "stderr",
     "output_type": "stream",
     "text": [
      "Warning message:\n",
      ": NAs introduced by coercionWarning message:\n",
      ": NAs introduced by coercionWarning message:\n",
      ": NAs introduced by coercionWarning message:\n",
      ": NAs introduced by coercionWarning message:\n",
      "In FUN(X[[i]], ...): NAs introduced by coercionWarning message:\n",
      "In FUN(X[[i]], ...): NAs introduced by coercionWarning message:\n",
      "In FUN(X[[i]], ...): NAs introduced by coercionWarning message:\n",
      "In FUN(X[[i]], ...): NAs introduced by coercionWarning message:\n",
      "In FUN(X[[i]], ...): NAs introduced by coercionWarning message:\n",
      "In FUN(X[[i]], ...): NAs introduced by coercionWarning message:\n",
      "In FUN(X[[i]], ...): NAs introduced by coercionWarning message:\n",
      "In FUN(X[[i]], ...): NAs introduced by coercionWarning message:\n",
      "In FUN(X[[i]], ...): NAs introduced by coercionWarning message:\n",
      "In FUN(X[[i]], ...): NAs introduced by coercionWarning message:\n",
      "In FUN(X[[i]], ...): NAs introduced by coercionWarning message:\n",
      "In FUN(X[[i]], ...): NAs introduced by coercionWarning message:\n",
      "In FUN(X[[i]], ...): NAs introduced by coercionWarning message:\n",
      "In FUN(X[[i]], ...): NAs introduced by coercionWarning message:\n",
      "In FUN(X[[i]], ...): NAs introduced by coercionWarning message:\n",
      "In FUN(X[[i]], ...): NAs introduced by coercionWarning message:\n",
      "In FUN(X[[i]], ...): NAs introduced by coercionWarning message:\n",
      "In FUN(X[[i]], ...): NAs introduced by coercion"
     ]
    },
    {
     "data": {
      "text/html": [
       "<table>\n",
       "<thead><tr><th></th><th scope=col>Year</th><th scope=col>Month</th><th scope=col>State</th><th scope=col>Data Status</th><th scope=col>Cat</th><th scope=col>Revenue</th><th scope=col>Sales</th><th scope=col>Customers</th><th scope=col>Price</th><th scope=col>ID</th></tr></thead>\n",
       "<tbody>\n",
       "\t<tr><th scope=row>1.RESIDENTIAL</th><td>1990</td><td>1</td><td>AK</td><td>Final</td><td>RESIDENTIAL</td><td>17477</td><td>181752</td><td>0</td><td>9.62</td><td>1</td></tr>\n",
       "\t<tr><th scope=row>2.RESIDENTIAL</th><td>1990</td><td>1</td><td>AL</td><td>Final</td><td>RESIDENTIAL</td><td>123332</td><td>2070093</td><td>0</td><td>5.96</td><td>2</td></tr>\n",
       "\t<tr><th scope=row>3.RESIDENTIAL</th><td>1990</td><td>1</td><td>AR</td><td>Final</td><td>RESIDENTIAL</td><td>72506</td><td>1026320</td><td>0</td><td>7.06</td><td>3</td></tr>\n",
       "\t<tr><th scope=row>4.RESIDENTIAL</th><td>1990</td><td>1</td><td>AZ</td><td>Final</td><td>RESIDENTIAL</td><td>109332</td><td>1396499</td><td>0</td><td>7.83</td><td>4</td></tr>\n",
       "\t<tr><th scope=row>5.RESIDENTIAL</th><td>1990</td><td>1</td><td>CA</td><td>Final</td><td>RESIDENTIAL</td><td>597161</td><td>6168009</td><td>0</td><td>9.68</td><td>5</td></tr>\n",
       "\t<tr><th scope=row>6.RESIDENTIAL</th><td>1990</td><td>1</td><td>CO</td><td>Final</td><td>RESIDENTIAL</td><td>71325</td><td>1046805</td><td>0</td><td>6.81</td><td>6</td></tr>\n",
       "</tbody>\n",
       "</table>\n"
      ],
      "text/latex": [
       "\\begin{tabular}{r|llllllllll}\n",
       "  & Year & Month & State & Data Status & Cat & Revenue & Sales & Customers & Price & ID\\\\\n",
       "\\hline\n",
       "\t1.RESIDENTIAL & 1990 & 1 & AK & Final & RESIDENTIAL & 17477 & 181752 & 0 & 9.62 & 1\\\\\n",
       "\t2.RESIDENTIAL & 1990 & 1 & AL & Final & RESIDENTIAL & 123332 & 2070093 & 0 & 5.96 & 2\\\\\n",
       "\t3.RESIDENTIAL & 1990 & 1 & AR & Final & RESIDENTIAL & 72506 & 1026320 & 0 & 7.06 & 3\\\\\n",
       "\t4.RESIDENTIAL & 1990 & 1 & AZ & Final & RESIDENTIAL & 109332 & 1396499 & 0 & 7.83 & 4\\\\\n",
       "\t5.RESIDENTIAL & 1990 & 1 & CA & Final & RESIDENTIAL & 597161 & 6168009 & 0 & 9.68 & 5\\\\\n",
       "\t6.RESIDENTIAL & 1990 & 1 & CO & Final & RESIDENTIAL & 71325 & 1046805 & 0 & 6.81 & 6\\\\\n",
       "\\end{tabular}\n"
      ],
      "text/plain": [
       "              Year Month State Data Status         Cat Revenue   Sales\n",
       "1.RESIDENTIAL 1990     1    AK       Final RESIDENTIAL   17477  181752\n",
       "2.RESIDENTIAL 1990     1    AL       Final RESIDENTIAL  123332 2070093\n",
       "3.RESIDENTIAL 1990     1    AR       Final RESIDENTIAL   72506 1026320\n",
       "4.RESIDENTIAL 1990     1    AZ       Final RESIDENTIAL  109332 1396499\n",
       "5.RESIDENTIAL 1990     1    CA       Final RESIDENTIAL  597161 6168009\n",
       "6.RESIDENTIAL 1990     1    CO       Final RESIDENTIAL   71325 1046805\n",
       "              Customers Price ID\n",
       "1.RESIDENTIAL         0  9.62  1\n",
       "2.RESIDENTIAL         0  5.96  2\n",
       "3.RESIDENTIAL         0  7.06  3\n",
       "4.RESIDENTIAL         0  7.83  4\n",
       "5.RESIDENTIAL         0  9.68  5\n",
       "6.RESIDENTIAL         0  6.81  6"
      ]
     },
     "execution_count": 3,
     "metadata": {},
     "output_type": "execute_result"
    }
   ],
   "source": [
    "check4data <- function(file, reverse = FALSE) {\n",
    "    numlines = 100\n",
    "    s = readLines(file)\n",
    "    if(reverse == FALSE) {\n",
    "        checkLines = c(1:numlines)\n",
    "    } else {\n",
    "        tLines = length(s)\n",
    "        checkLines = rev(c((tLines - numlines):tLines))\n",
    "    }\n",
    "    for (i in checkLines) {\n",
    "        lineVec = unlist(strsplit(s[i], split=\",\"))\n",
    "        if (is.na(as.integer(lineVec[1])) == F) {\n",
    "            return(i)\n",
    "        }\n",
    "    }\n",
    "    return(0)\n",
    "}\n",
    "revandcollapse <- function(x) {\n",
    "    x = rev(x)\n",
    "    x[which(x == \"\")] <- NA\n",
    "    x = na.locf(x)\n",
    "    return(x)\n",
    "}\n",
    "\n",
    "extractheaderinfo <- function(file, lines) {\n",
    "    raw = readLines(file, n = lines)\n",
    "    for (i in rev(c(1:lines))) {\n",
    "        lineVec = unlist(strsplit(raw[i], split=\",\"))\n",
    "        # the above misses the last element if it's blank.\n",
    "        if(i != lines) {\n",
    "            if(length(lineVec) < length(prevline)) {\n",
    "                lineVec = append(lineVec,\"\", after = length(lineVec))\n",
    "            }\n",
    "        }\n",
    "        lineVec[which(lineVec == \"\")] <- NA\n",
    "        t = na.locf(lineVec, na.rm = FALSE)\n",
    "        t[which(is.na(t))] <- \"\"\n",
    "        if(i == lines) {\n",
    "            prevline = t\n",
    "        } else {\n",
    "            prevline = paste(prevline, t, sep = \"|\")\n",
    "        }\n",
    "    }\n",
    "    return(sapply(strsplit(as.character(prevline), \"\\\\|\"), function(x) revandcollapse(x)))\n",
    "}\n",
    "                           \n",
    "c2num <- function(data, headers) {\n",
    "    els = sapply(headers, function(x) length(x))\n",
    "    chidxs = which(els <= 1)\n",
    "    uhidxs = setdiff(c(1:length(els)), chidxs)\n",
    "    data[uhidxs] <- lapply(data[uhidxs], function(x) as.numeric(gsub(\",\", \"\",as.character(x))))\n",
    "    data[is.na(data)] <- 0\n",
    "    return(data)\n",
    "}\n",
    "\n",
    "splitdata <- function(data, headers, catlen = 4) {\n",
    "    # http://www.statmethods.net/management/reshape.html\n",
    "    els = sapply(headers, function(x) length(x))\n",
    "    chidxs = which(els <= 1)\n",
    "    uhidxs = setdiff(c(1:length(els)), chidxs)\n",
    "    cnames = c(c(sapply(headers[chidxs],function(x) x[1])), c(sapply(headers[uhidxs],function(x) paste(x[2],x[1], sep=\"_\"))))\n",
    "    colnames(data) <- cnames\n",
    "    # http://stackoverflow.com/questions/21690235/melt-multiple-groups-of-measure-vars\n",
    "    # http://www.r-bloggers.com/converting-a-dataset-from-wide-to-long/\n",
    "    r = reshape(data, varying=uhidxs, direction=\"long\",idvar=\"ID\",timevar = \"Cat\", sep=\"_\")\n",
    "    return(r)\n",
    "}\n",
    "\n",
    "file = \"data/sales_revenue_1.csv\"\n",
    "firstline = check4data(file) - 1\n",
    "# [1] 4\n",
    "lastline = check4data(file, reverse = TRUE) - firstline\n",
    "# [1] 16014\n",
    "\n",
    "alldata = read.csv(file, header = FALSE, skip = firstline, nrows = lastline, stringsAsFactors = FALSE)\n",
    "headers = extractheaderinfo(file,firstline)\n",
    "alldata = c2num(alldata, headers)\n",
    "reformeddata = splitdata(alldata, headers)\n",
    "                                                                     \n",
    "head(reformeddata)"
   ]
  },
  {
   "cell_type": "code",
   "execution_count": null,
   "metadata": {
    "collapsed": false
   },
   "outputs": [],
   "source": [
    "\n",
    "\n"
   ]
  },
  {
   "cell_type": "code",
   "execution_count": null,
   "metadata": {
    "collapsed": true
   },
   "outputs": [],
   "source": []
  }
 ],
 "metadata": {
  "kernelspec": {
   "display_name": "R",
   "language": "R",
   "name": "ir"
  },
  "language_info": {
   "codemirror_mode": "r",
   "file_extension": ".r",
   "mimetype": "text/x-r-source",
   "name": "R",
   "pygments_lexer": "r",
   "version": "3.2.2"
  }
 },
 "nbformat": 4,
 "nbformat_minor": 0
}
