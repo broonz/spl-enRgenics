{
 "cells": [
  {
   "cell_type": "code",
   "execution_count": 95,
   "metadata": {
    "collapsed": false
   },
   "outputs": [
    {
     "name": "stderr",
     "output_type": "stream",
     "text": [
      "\n",
      "Attaching package: ‘reshape2’\n",
      "\n",
      "The following objects are masked from ‘package:reshape’:\n",
      "\n",
      "    colsplit, melt, recast\n",
      "\n"
     ]
    }
   ],
   "source": [
    "# Load Libraries and Data\n",
    "# download data from https://www.eia.gov/electricity/data/eia826/\n",
    "\n",
    "library(zoo)\n",
    "library(reshape2)"
   ]
  },
  {
   "cell_type": "code",
   "execution_count": 137,
   "metadata": {
    "collapsed": false
   },
   "outputs": [
    {
     "name": "stderr",
     "output_type": "stream",
     "text": [
      "Warning message:\n",
      ": NAs introduced by coercionWarning message:\n",
      ": NAs introduced by coercionWarning message:\n",
      ": NAs introduced by coercionWarning message:\n",
      ": NAs introduced by coercionWarning message:\n",
      "In FUN(X[[i]], ...): NAs introduced by coercionWarning message:\n",
      "In FUN(X[[i]], ...): NAs introduced by coercionWarning message:\n",
      "In FUN(X[[i]], ...): NAs introduced by coercionWarning message:\n",
      "In FUN(X[[i]], ...): NAs introduced by coercionWarning message:\n",
      "In FUN(X[[i]], ...): NAs introduced by coercionWarning message:\n",
      "In FUN(X[[i]], ...): NAs introduced by coercionWarning message:\n",
      "In FUN(X[[i]], ...): NAs introduced by coercionWarning message:\n",
      "In FUN(X[[i]], ...): NAs introduced by coercionWarning message:\n",
      "In FUN(X[[i]], ...): NAs introduced by coercionWarning message:\n",
      "In FUN(X[[i]], ...): NAs introduced by coercionWarning message:\n",
      "In FUN(X[[i]], ...): NAs introduced by coercionWarning message:\n",
      "In FUN(X[[i]], ...): NAs introduced by coercionWarning message:\n",
      "In FUN(X[[i]], ...): NAs introduced by coercionWarning message:\n",
      "In FUN(X[[i]], ...): NAs introduced by coercionWarning message:\n",
      "In FUN(X[[i]], ...): NAs introduced by coercionWarning message:\n",
      "In FUN(X[[i]], ...): NAs introduced by coercionWarning message:\n",
      "In FUN(X[[i]], ...): NAs introduced by coercionWarning message:\n",
      "In FUN(X[[i]], ...): NAs introduced by coercion"
     ]
    },
    {
     "name": "stdout",
     "output_type": "stream",
     "text": [
      "       V1        V2        V3        V4        V5        V6        V7        V8 \n",
      "\"integer\" \"integer\"  \"factor\"  \"factor\" \"numeric\" \"numeric\" \"numeric\" \"numeric\" \n",
      "    V1 V2 V3    V4 variable     value\n",
      "1 1990  1 AK Final       V5  17477.00\n",
      "2 1990  1 AK Final       V6 181752.00\n",
      "3 1990  1 AK Final       V7      0.00\n",
      "4 1990  1 AK Final       V8      9.62\n"
     ]
    }
   ],
   "source": [
    "check4data <- function(file, reverse = FALSE) {\n",
    "    numlines = 100\n",
    "    s = readLines(file)\n",
    "    if(reverse == FALSE) {\n",
    "        checkLines = c(1:numlines)\n",
    "    } else {\n",
    "        tLines = length(s)\n",
    "        checkLines = rev(c((tLines - numlines):tLines))\n",
    "    }\n",
    "    for (i in checkLines) {\n",
    "        lineVec = unlist(strsplit(s[i], split=\",\"))\n",
    "        if (is.na(as.integer(lineVec[1])) == F) {\n",
    "            return(i)\n",
    "        }\n",
    "    }\n",
    "    return(0)\n",
    "}\n",
    "revandcollapse <- function(x) {\n",
    "    x = rev(x)\n",
    "    x[which(x == \"\")] <- NA\n",
    "    x = na.locf(x)\n",
    "    return(x)\n",
    "}\n",
    "\n",
    "extractheaderinfo <- function(file, lines) {\n",
    "    raw = readLines(file, n = lines)\n",
    "    for (i in rev(c(1:lines))) {\n",
    "        lineVec = unlist(strsplit(raw[i], split=\",\"))\n",
    "        # the above misses the last element if it's blank.\n",
    "        if(i != lines) {\n",
    "            if(length(lineVec) < length(prevline)) {\n",
    "                lineVec = append(lineVec,\"\", after = length(lineVec))\n",
    "            }\n",
    "        }\n",
    "        lineVec[which(lineVec == \"\")] <- NA\n",
    "        t = na.locf(lineVec, na.rm = FALSE)\n",
    "        t[which(is.na(t))] <- \"\"\n",
    "        if(i == lines) {\n",
    "            prevline = t\n",
    "        } else {\n",
    "            prevline = paste(prevline, t, sep = \"|\")\n",
    "        }\n",
    "    }\n",
    "    return(sapply(strsplit(as.character(prevline), \"\\\\|\"), function(x) revandcollapse(x)))\n",
    "}\n",
    "\n",
    "splitdata <- function(data, headers, catlen = 4) {\n",
    "    els = sapply(headers, function(x) length(x))\n",
    "    chidxs = which(els <= 1)\n",
    "    uhidxs = setdiff(c(1:length(els)), chidxs)\n",
    "    tdata = data[,c(chidxs, 5:8)]\n",
    "    print(sapply(tdata,class))\n",
    "    t = melt(tdata, id=1:4)\n",
    "    # sapply(headers, function(x) x[1])[chidxs]\n",
    "    # http://www.statmethods.net/management/reshape.html\n",
    "    print(t)\n",
    "}\n",
    "                           \n",
    "c2num <- function(data, headers) {\n",
    "    els = sapply(headers, function(x) length(x))\n",
    "    chidxs = which(els <= 1)\n",
    "    uhidxs = setdiff(c(1:length(els)), chidxs)\n",
    "    data[uhidxs] <- lapply(data[uhidxs], function(x) as.numeric(gsub(\",\", \"\",as.character(x))))\n",
    "    data[is.na(data)] <- 0\n",
    "    return(data)\n",
    "}\n",
    "\n",
    "file = \"data/sales_revenue_1.csv\"\n",
    "firstline = check4data(file) - 1\n",
    "# [1] 4\n",
    "lastline = check4data(file, reverse = TRUE) - firstline\n",
    "# [1] 16014\n",
    "\n",
    "alldata = read.csv(file, header = FALSE, skip = firstline, nrows = lastline)\n",
    "alldata = c2num(alldata, headers)\n",
    "headers = extractheaderinfo(file,firstline)\n",
    "splitdata(alldata[1,], headers)\n"
   ]
  },
  {
   "cell_type": "code",
   "execution_count": null,
   "metadata": {
    "collapsed": false
   },
   "outputs": [],
   "source": []
  },
  {
   "cell_type": "code",
   "execution_count": null,
   "metadata": {
    "collapsed": true
   },
   "outputs": [],
   "source": []
  }
 ],
 "metadata": {
  "kernelspec": {
   "display_name": "R",
   "language": "R",
   "name": "ir"
  },
  "language_info": {
   "codemirror_mode": "r",
   "file_extension": ".r",
   "mimetype": "text/x-r-source",
   "name": "R",
   "pygments_lexer": "r",
   "version": "3.2.2"
  }
 },
 "nbformat": 4,
 "nbformat_minor": 0
}
