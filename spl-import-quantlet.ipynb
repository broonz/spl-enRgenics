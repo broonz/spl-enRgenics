{
 "cells": [
  {
   "cell_type": "code",
   "execution_count": 13,
   "metadata": {
    "collapsed": false
   },
   "outputs": [],
   "source": [
    "# Load Libraries and Data\n",
    "# download data from https://www.eia.gov/electricity/data/eia826/\n",
    "options(repos= c(\"http://cloud.r-project.org/\"))\n",
    "# install.packages(zoo)\n",
    "library(zoo)\n",
    "# install.packages(reshape2)\n",
    "library(reshape2)\n"
   ]
  },
  {
   "cell_type": "code",
   "execution_count": 9,
   "metadata": {
    "collapsed": false
   },
   "outputs": [
    {
     "data": {
      "text/html": [
       "<table>\n",
       "<thead><tr><th></th><th scope=col>Year</th><th scope=col>Month</th><th scope=col>State</th><th scope=col>Data Status</th><th scope=col>Cat</th><th scope=col>Revenue</th><th scope=col>Sales</th><th scope=col>Customers</th><th scope=col>Price</th><th scope=col>ID</th></tr></thead>\n",
       "<tbody>\n",
       "\t<tr><th scope=row>1.RESIDENTIAL</th><td>1990</td><td>1</td><td>AK</td><td>Final</td><td>RESIDENTIAL</td><td>17477</td><td>181752</td><td>0</td><td>9.62</td><td>1</td></tr>\n",
       "\t<tr><th scope=row>2.RESIDENTIAL</th><td>1990</td><td>1</td><td>AL</td><td>Final</td><td>RESIDENTIAL</td><td>123332</td><td>2070093</td><td>0</td><td>5.96</td><td>2</td></tr>\n",
       "\t<tr><th scope=row>3.RESIDENTIAL</th><td>1990</td><td>1</td><td>AR</td><td>Final</td><td>RESIDENTIAL</td><td>72506</td><td>1026320</td><td>0</td><td>7.06</td><td>3</td></tr>\n",
       "\t<tr><th scope=row>4.RESIDENTIAL</th><td>1990</td><td>1</td><td>AZ</td><td>Final</td><td>RESIDENTIAL</td><td>109332</td><td>1396499</td><td>0</td><td>7.83</td><td>4</td></tr>\n",
       "\t<tr><th scope=row>5.RESIDENTIAL</th><td>1990</td><td>1</td><td>CA</td><td>Final</td><td>RESIDENTIAL</td><td>597161</td><td>6168009</td><td>0</td><td>9.68</td><td>5</td></tr>\n",
       "\t<tr><th scope=row>6.RESIDENTIAL</th><td>1990</td><td>1</td><td>CO</td><td>Final</td><td>RESIDENTIAL</td><td>71325</td><td>1046805</td><td>0</td><td>6.81</td><td>6</td></tr>\n",
       "</tbody>\n",
       "</table>\n"
      ],
      "text/latex": [
       "\\begin{tabular}{r|llllllllll}\n",
       "  & Year & Month & State & Data Status & Cat & Revenue & Sales & Customers & Price & ID\\\\\n",
       "\\hline\n",
       "\t1.RESIDENTIAL & 1990 & 1 & AK & Final & RESIDENTIAL & 17477 & 181752 & 0 & 9.62 & 1\\\\\n",
       "\t2.RESIDENTIAL & 1990 & 1 & AL & Final & RESIDENTIAL & 123332 & 2070093 & 0 & 5.96 & 2\\\\\n",
       "\t3.RESIDENTIAL & 1990 & 1 & AR & Final & RESIDENTIAL & 72506 & 1026320 & 0 & 7.06 & 3\\\\\n",
       "\t4.RESIDENTIAL & 1990 & 1 & AZ & Final & RESIDENTIAL & 109332 & 1396499 & 0 & 7.83 & 4\\\\\n",
       "\t5.RESIDENTIAL & 1990 & 1 & CA & Final & RESIDENTIAL & 597161 & 6168009 & 0 & 9.68 & 5\\\\\n",
       "\t6.RESIDENTIAL & 1990 & 1 & CO & Final & RESIDENTIAL & 71325 & 1046805 & 0 & 6.81 & 6\\\\\n",
       "\\end{tabular}\n"
      ],
      "text/plain": [
       "              Year Month State Data Status         Cat Revenue   Sales\n",
       "1.RESIDENTIAL 1990     1    AK       Final RESIDENTIAL   17477  181752\n",
       "2.RESIDENTIAL 1990     1    AL       Final RESIDENTIAL  123332 2070093\n",
       "3.RESIDENTIAL 1990     1    AR       Final RESIDENTIAL   72506 1026320\n",
       "4.RESIDENTIAL 1990     1    AZ       Final RESIDENTIAL  109332 1396499\n",
       "5.RESIDENTIAL 1990     1    CA       Final RESIDENTIAL  597161 6168009\n",
       "6.RESIDENTIAL 1990     1    CO       Final RESIDENTIAL   71325 1046805\n",
       "              Customers Price ID\n",
       "1.RESIDENTIAL         0  9.62  1\n",
       "2.RESIDENTIAL         0  5.96  2\n",
       "3.RESIDENTIAL         0  7.06  3\n",
       "4.RESIDENTIAL         0  7.83  4\n",
       "5.RESIDENTIAL         0  9.68  5\n",
       "6.RESIDENTIAL         0  6.81  6"
      ]
     },
     "execution_count": 9,
     "metadata": {},
     "output_type": "execute_result"
    }
   ],
   "source": [
    "check4data = function(file, reverse = FALSE) {\n",
    "    numlines = 100\n",
    "    s = readLines(file)\n",
    "    if(reverse == FALSE) {\n",
    "        checkLines = c(1:numlines)\n",
    "    } else {\n",
    "        tLines = length(s)\n",
    "        checkLines = rev(c((tLines - numlines):tLines))\n",
    "    }\n",
    "    for (i in checkLines) {\n",
    "        lineVec = unlist(strsplit(s[i], split=\",\"))\n",
    "        # http://stackoverflow.com/questions/14984989/how-to-avoid-warning-when-introducing-nas-by-coercion\n",
    "        if (is.na(suppressWarnings(as.integer(lineVec[1]))) == F) {\n",
    "            return(i)\n",
    "        }\n",
    "    }\n",
    "    return(0)\n",
    "}\n",
    "\n",
    "revandcollapse = function(x) {\n",
    "    x = rev(x)\n",
    "    x[which(x == \"\")] = NA\n",
    "    x = na.locf(x)\n",
    "    return(x)\n",
    "}\n",
    "\n",
    "extractheaderinfo = function(file, lines) {\n",
    "    raw = readLines(file, n = lines)\n",
    "    for (i in rev(c(1:lines))) {\n",
    "        lineVec = unlist(strsplit(raw[i], split=\",\"))\n",
    "        # the above misses the last element if it's blank.\n",
    "        if(i != lines) {\n",
    "            if(length(lineVec) < length(prevline)) {\n",
    "                lineVec = append(lineVec,\"\", after = length(lineVec))\n",
    "            }\n",
    "        }\n",
    "        lineVec[which(lineVec == \"\")] = NA\n",
    "        t = na.locf(lineVec, na.rm = FALSE)\n",
    "        t[which(is.na(t))] = \"\"\n",
    "        if(i == lines) {\n",
    "            prevline = t\n",
    "        } else {\n",
    "            prevline = paste(prevline, t, sep = \"|\")\n",
    "        }\n",
    "    }\n",
    "    r = sapply(strsplit(as.character(prevline), \"\\\\|\"), function(x) {revandcollapse(x)})\n",
    "    return(r)\n",
    "}\n",
    "\n",
    "\n",
    "c2num = function(data, headers) {\n",
    "    els = sapply(headers, function(x) {length(x)})\n",
    "    chidxs = which(els <= 1)\n",
    "    uhidxs = setdiff(c(1:length(els)), chidxs)\n",
    "    data[uhidxs] = lapply(data[uhidxs], function(x) {suppressWarnings(as.numeric(gsub(\",\", \"\",as.character(x))))})\n",
    "    data[is.na(data)] = 0\n",
    "    return(data)\n",
    "}\n",
    "\n",
    "splitdata = function(data, headers, catlen = 4) {\n",
    "    # http://www.statmethods.net/management/reshape.html\n",
    "    els = sapply(headers, function(x) {length(x)})\n",
    "    chidxs = which(els <= 1)\n",
    "    uhidxs = setdiff(c(1:length(els)), chidxs)\n",
    "    cnames = c(c(sapply(headers[chidxs],function(x) {x[1]})), c(sapply(headers[uhidxs],function(x) {paste(x[2],x[1], sep=\"_\")})))\n",
    "    colnames(data) = cnames\n",
    "    # http://stackoverflow.com/questions/21690235/melt-multiple-groups-of-measure-vars\n",
    "    # http://www.r-bloggers.com/converting-a-dataset-from-wide-to-long/\n",
    "    r = reshape(data, varying=uhidxs, direction=\"long\",idvar=\"ID\",timevar = \"Cat\", sep=\"_\")\n",
    "    return(r)\n",
    "}\n",
    "\n",
    "load_file = function(file) {\n",
    "    firstline = check4data(file) - 1\n",
    "    # [1] 4\n",
    "    lastline = check4data(file, reverse = TRUE) - firstline\n",
    "    # [1] 16014\n",
    "\n",
    "    alldata = read.csv(file, header = FALSE, skip = firstline, nrows = lastline, stringsAsFactors = FALSE)\n",
    "    headers = extractheaderinfo(file,firstline)\n",
    "    alldata = c2num(alldata, headers)\n",
    "    reformeddata = splitdata(alldata, headers)\n",
    "    return(reformeddata)\n",
    "}\n",
    "\n",
    "reformeddata = load_file(\"data/sales_revenue_1.csv\")\n",
    "                                                                     \n",
    "head(reformeddata)"
   ]
  },
  {
   "cell_type": "code",
   "execution_count": 31,
   "metadata": {
    "collapsed": false
   },
   "outputs": [
    {
     "data": {
      "text/html": [
       "<table>\n",
       "<thead><tr><th></th><th scope=col>Population</th><th scope=col>Income</th><th scope=col>Illiteracy</th><th scope=col>Life Exp</th><th scope=col>Murder</th><th scope=col>HS Grad</th><th scope=col>Frost</th><th scope=col>Area</th></tr></thead>\n",
       "<tbody>\n",
       "\t<tr><th scope=row>Vermont</th><td> 472.00</td><td>3907.00</td><td>   0.60</td><td>  71.64</td><td>   5.50</td><td>  57.10</td><td> 168.00</td><td>9267.00</td></tr>\n",
       "\t<tr><th scope=row>Virginia</th><td> 4981.00</td><td> 4701.00</td><td>    1.40</td><td>   70.08</td><td>    9.50</td><td>   47.80</td><td>   85.00</td><td>39780.00</td></tr>\n",
       "\t<tr><th scope=row>Washington</th><td> 3559.00</td><td> 4864.00</td><td>    0.60</td><td>   71.72</td><td>    4.30</td><td>   63.50</td><td>   32.00</td><td>66570.00</td></tr>\n",
       "\t<tr><th scope=row>West Virginia</th><td> 1799.00</td><td> 3617.00</td><td>    1.40</td><td>   69.48</td><td>    6.70</td><td>   41.60</td><td>  100.00</td><td>24070.00</td></tr>\n",
       "\t<tr><th scope=row>Wisconsin</th><td> 4589.00</td><td> 4468.00</td><td>    0.70</td><td>   72.48</td><td>    3.00</td><td>   54.50</td><td>  149.00</td><td>54464.00</td></tr>\n",
       "\t<tr><th scope=row>Wyoming</th><td>  376.00</td><td> 4566.00</td><td>    0.60</td><td>   70.29</td><td>    6.90</td><td>   62.90</td><td>  173.00</td><td>97203.00</td></tr>\n",
       "</tbody>\n",
       "</table>\n"
      ],
      "text/latex": [
       "\\begin{tabular}{r|llllllll}\n",
       "  & Population & Income & Illiteracy & Life Exp & Murder & HS Grad & Frost & Area\\\\\n",
       "\\hline\n",
       "\tVermont &  472.00 & 3907.00 &    0.60 &   71.64 &    5.50 &   57.10 &  168.00 & 9267.00\\\\\n",
       "\tVirginia &  4981.00 &  4701.00 &     1.40 &    70.08 &     9.50 &    47.80 &    85.00 & 39780.00\\\\\n",
       "\tWashington &  3559.00 &  4864.00 &     0.60 &    71.72 &     4.30 &    63.50 &    32.00 & 66570.00\\\\\n",
       "\tWest Virginia &  1799.00 &  3617.00 &     1.40 &    69.48 &     6.70 &    41.60 &   100.00 & 24070.00\\\\\n",
       "\tWisconsin &  4589.00 &  4468.00 &     0.70 &    72.48 &     3.00 &    54.50 &   149.00 & 54464.00\\\\\n",
       "\tWyoming &   376.00 &  4566.00 &     0.60 &    70.29 &     6.90 &    62.90 &   173.00 & 97203.00\\\\\n",
       "\\end{tabular}\n"
      ],
      "text/markdown": [
       "1. 472\n",
       "2. 4981\n",
       "3. 3559\n",
       "4. 1799\n",
       "5. 4589\n",
       "6. 376\n",
       "7. 3907\n",
       "8. 4701\n",
       "9. 4864\n",
       "10. 3617\n",
       "11. 4468\n",
       "12. 4566\n",
       "13. 0.6\n",
       "14. 1.4\n",
       "15. 0.6\n",
       "16. 1.4\n",
       "17. 0.7\n",
       "18. 0.6\n",
       "19. 71.64\n",
       "20. 70.08\n",
       "21. 71.72\n",
       "22. 69.48\n",
       "23. 72.48\n",
       "24. 70.29\n",
       "25. 5.5\n",
       "26. 9.5\n",
       "27. 4.3\n",
       "28. 6.7\n",
       "29. 3\n",
       "30. 6.9\n",
       "31. 57.1\n",
       "32. 47.8\n",
       "33. 63.5\n",
       "34. 41.6\n",
       "35. 54.5\n",
       "36. 62.9\n",
       "37. 168\n",
       "38. 85\n",
       "39. 32\n",
       "40. 100\n",
       "41. 149\n",
       "42. 173\n",
       "43. 9267\n",
       "44. 39780\n",
       "45. 66570\n",
       "46. 24070\n",
       "47. 54464\n",
       "48. 97203\n",
       "\n",
       "\n"
      ],
      "text/plain": [
       "              Population Income Illiteracy Life Exp Murder HS Grad Frost  Area\n",
       "Vermont              472   3907        0.6    71.64    5.5    57.1   168  9267\n",
       "Virginia            4981   4701        1.4    70.08    9.5    47.8    85 39780\n",
       "Washington          3559   4864        0.6    71.72    4.3    63.5    32 66570\n",
       "West Virginia       1799   3617        1.4    69.48    6.7    41.6   100 24070\n",
       "Wisconsin           4589   4468        0.7    72.48    3.0    54.5   149 54464\n",
       "Wyoming              376   4566        0.6    70.29    6.9    62.9   173 97203"
      ]
     },
     "execution_count": 31,
     "metadata": {},
     "output_type": "execute_result"
    },
    {
     "data": {
      "text/html": [
       "<ol class=list-inline>\n",
       "\t<li>'VT'</li>\n",
       "\t<li>'VA'</li>\n",
       "\t<li>'WA'</li>\n",
       "\t<li>'WV'</li>\n",
       "\t<li>'WI'</li>\n",
       "\t<li>'WY'</li>\n",
       "</ol>\n"
      ],
      "text/latex": [
       "\\begin{enumerate*}\n",
       "\\item 'VT'\n",
       "\\item 'VA'\n",
       "\\item 'WA'\n",
       "\\item 'WV'\n",
       "\\item 'WI'\n",
       "\\item 'WY'\n",
       "\\end{enumerate*}\n"
      ],
      "text/markdown": [
       "1. 'VT'\n",
       "2. 'VA'\n",
       "3. 'WA'\n",
       "4. 'WV'\n",
       "5. 'WI'\n",
       "6. 'WY'\n",
       "\n",
       "\n"
      ],
      "text/plain": [
       "[1] \"VT\" \"VA\" \"WA\" \"WV\" \"WI\" \"WY\""
      ]
     },
     "execution_count": 31,
     "metadata": {},
     "output_type": "execute_result"
    }
   ],
   "source": [
    "library(MASS)\n",
    "tail(state.x77)\n",
    "tail(state.abb)\n",
    "# https://www.census.gov/popest/data/datasets.html\n",
    "# https://docs.google.com/spreadsheets/d/1JsV5bNnFoE-4xapsnrpqRP-5wgTkpDjgC0SXKW8zgPI/edit#gid=0\n"
   ]
  },
  {
   "cell_type": "code",
   "execution_count": null,
   "metadata": {
    "collapsed": true
   },
   "outputs": [],
   "source": []
  }
 ],
 "metadata": {
  "kernelspec": {
   "display_name": "R",
   "language": "R",
   "name": "ir"
  },
  "language_info": {
   "codemirror_mode": "r",
   "file_extension": ".r",
   "mimetype": "text/x-r-source",
   "name": "R",
   "pygments_lexer": "r",
   "version": "3.2.2"
  }
 },
 "nbformat": 4,
 "nbformat_minor": 0
}
